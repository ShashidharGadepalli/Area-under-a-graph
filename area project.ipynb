{
 "cells": [
  {
   "cell_type": "code",
   "execution_count": null,
   "metadata": {},
   "outputs": [],
   "source": [
    "from math import *\n",
    "n=int(input(\"enter how many times you want to sum(more time=more accurate)\"))\n",
    "a=float(input(\"enter the lower bound of the integral \"))\n",
    "b=float(input(\"enter the upper bound of the integral \"))\n",
    "def integrate(n,a,b):\n",
    "    def f(x):\n",
    "        return sin(x)\n",
    "    value=0\n",
    "    value2=0\n",
    "    for i in range(1,n+1):\n",
    "        value+=f(a+((i-(1/2))*((b-a)/n)))\n",
    "    value2=((b-a)/n)*value\n",
    "    return value2\n",
    "print(\".......\")\n",
    "print(\"area is \")\n",
    "print(integrate(n,a,b))\n",
    "    "
   ]
  },
  {
   "cell_type": "code",
   "execution_count": null,
   "metadata": {},
   "outputs": [],
   "source": []
  },
  {
   "cell_type": "code",
   "execution_count": null,
   "metadata": {},
   "outputs": [],
   "source": []
  },
  {
   "cell_type": "code",
   "execution_count": null,
   "metadata": {},
   "outputs": [],
   "source": []
  }
 ],
 "metadata": {
  "kernelspec": {
   "display_name": "Python 3",
   "language": "python",
   "name": "python3"
  },
  "language_info": {
   "codemirror_mode": {
    "name": "ipython",
    "version": 3
   },
   "file_extension": ".py",
   "mimetype": "text/x-python",
   "name": "python",
   "nbconvert_exporter": "python",
   "pygments_lexer": "ipython3",
   "version": "3.7.6"
  }
 },
 "nbformat": 4,
 "nbformat_minor": 4
}
