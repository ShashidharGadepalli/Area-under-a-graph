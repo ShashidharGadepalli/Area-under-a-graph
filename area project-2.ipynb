{
 "cells": [
  {
   "cell_type": "code",
   "execution_count": 2,
   "metadata": {},
   "outputs": [
    {
     "name": "stdout",
     "output_type": "stream",
     "text": [
      "enter how many times you want to sum(more time=more accurate)1000\n",
      "enter the lower bound of the integral 0\n",
      "enter the upper bound of the integral 3.14\n",
      ".......\n",
      "area is \n",
      "1.9999995533605872\n"
     ]
    }
   ],
   "source": [
    "from math import *\n",
    "n=int(input(\"enter how many times you want to sum(more time=more accurate)\"))\n",
    "a=float(input(\"enter the lower bound of the integral \"))\n",
    "b=float(input(\"enter the upper bound of the integral \"))\n",
    "def integrate(n,a,b):\n",
    "    def f(x):\n",
    "        return sin(x)\n",
    "    value=0\n",
    "    value2=0\n",
    "    for i in range(1,n+1):\n",
    "        value+=f(a+((i-(1/2))*((b-a)/n)))\n",
    "    value2=((b-a)/n)*value\n",
    "    return value2\n",
    "print(\".......\")\n",
    "print(\"area is \")\n",
    "print(integrate(n,a,b))\n",
    "    "
   ]
  },
  {
   "cell_type": "code",
   "execution_count": null,
   "metadata": {},
   "outputs": [],
   "source": []
  },
  {
   "cell_type": "code",
   "execution_count": null,
   "metadata": {},
   "outputs": [],
   "source": []
  },
  {
   "cell_type": "code",
   "execution_count": null,
   "metadata": {},
   "outputs": [],
   "source": []
  }
 ],
 "metadata": {
  "kernelspec": {
   "display_name": "Python 3",
   "language": "python",
   "name": "python3"
  },
  "language_info": {
   "codemirror_mode": {
    "name": "ipython",
    "version": 3
   },
   "file_extension": ".py",
   "mimetype": "text/x-python",
   "name": "python",
   "nbconvert_exporter": "python",
   "pygments_lexer": "ipython3",
   "version": "3.7.6"
  }
 },
 "nbformat": 4,
 "nbformat_minor": 4
}
